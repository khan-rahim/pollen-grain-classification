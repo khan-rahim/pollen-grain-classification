{
 "cells": [
  {
   "cell_type": "markdown",
   "metadata": {},
   "source": [
    "# Introduction\n",
    "\n",
    "1. This kernel is a detailed guide for transfer learning on Pollen Grain problem.\n",
    "\n",
    "2. The aim of this kernel is to show you how to use pre-trained CNN models for transfer learning techniques.\n",
    "\n",
    "3. The Dataset has been taken from kaggle and contains 790 pollen images of 23 pollen types. [Link](https://www.kaggle.com/andrewmvd/pollen-grain-image-classification)\n"
   ]
  },
  {
   "cell_type": "code",
   "execution_count": 1,
   "metadata": {
    "_cell_guid": "79c7e3d0-c299-4dcb-8224-4455121ee9b0",
    "_uuid": "d629ff2d2480ee46fbb7e2d37f6b5fab8052498a"
   },
   "outputs": [],
   "source": [
    "import numpy as np\n",
    "import pandas as pd\n",
    "import os"
   ]
  },
  {
   "cell_type": "code",
   "execution_count": 2,
   "metadata": {},
   "outputs": [],
   "source": [
    "work_dir = '../input/pollen-grain-image-classification'"
   ]
  },
  {
   "cell_type": "code",
   "execution_count": 3,
   "metadata": {},
   "outputs": [],
   "source": [
    "image_name = os.listdir(work_dir) "
   ]
  },
  {
   "cell_type": "code",
   "execution_count": 4,
   "metadata": {},
   "outputs": [],
   "source": [
    "image_type = [image.replace(' ','_').split('_')[0] for image in image_name] "
   ]
  },
  {
   "cell_type": "code",
   "execution_count": 6,
   "metadata": {},
   "outputs": [],
   "source": [
    "#Creating dataframe for ImageDataGenerator\n",
    "df = pd.DataFrame() \n",
    "df['image_name']=image_name\n",
    "df['image_type']=image_type"
   ]
  },
  {
   "cell_type": "code",
   "execution_count": 7,
   "metadata": {},
   "outputs": [
    {
     "data": {
      "text/html": [
       "<div>\n",
       "<style scoped>\n",
       "    .dataframe tbody tr th:only-of-type {\n",
       "        vertical-align: middle;\n",
       "    }\n",
       "\n",
       "    .dataframe tbody tr th {\n",
       "        vertical-align: top;\n",
       "    }\n",
       "\n",
       "    .dataframe thead th {\n",
       "        text-align: right;\n",
       "    }\n",
       "</style>\n",
       "<table border=\"1\" class=\"dataframe\">\n",
       "  <thead>\n",
       "    <tr style=\"text-align: right;\">\n",
       "      <th></th>\n",
       "      <th>image_name</th>\n",
       "      <th>image_type</th>\n",
       "    </tr>\n",
       "  </thead>\n",
       "  <tbody>\n",
       "    <tr>\n",
       "      <th>0</th>\n",
       "      <td>combretum_11.jpg</td>\n",
       "      <td>combretum</td>\n",
       "    </tr>\n",
       "    <tr>\n",
       "      <th>1</th>\n",
       "      <td>faramea_15.jpg</td>\n",
       "      <td>faramea</td>\n",
       "    </tr>\n",
       "    <tr>\n",
       "      <th>2</th>\n",
       "      <td>myrcia_34.jpg</td>\n",
       "      <td>myrcia</td>\n",
       "    </tr>\n",
       "    <tr>\n",
       "      <th>3</th>\n",
       "      <td>croton_22.jpg</td>\n",
       "      <td>croton</td>\n",
       "    </tr>\n",
       "    <tr>\n",
       "      <th>4</th>\n",
       "      <td>arecaceae_16.jpg</td>\n",
       "      <td>arecaceae</td>\n",
       "    </tr>\n",
       "  </tbody>\n",
       "</table>\n",
       "</div>"
      ],
      "text/plain": [
       "         image_name image_type\n",
       "0  combretum_11.jpg  combretum\n",
       "1    faramea_15.jpg    faramea\n",
       "2     myrcia_34.jpg     myrcia\n",
       "3     croton_22.jpg     croton\n",
       "4  arecaceae_16.jpg  arecaceae"
      ]
     },
     "execution_count": 7,
     "metadata": {},
     "output_type": "execute_result"
    }
   ],
   "source": [
    "df.head()"
   ]
  },
  {
   "cell_type": "code",
   "execution_count": 8,
   "metadata": {},
   "outputs": [],
   "source": [
    "from tensorflow.keras.preprocessing.image import ImageDataGenerator"
   ]
  },
  {
   "cell_type": "code",
   "execution_count": 9,
   "metadata": {},
   "outputs": [],
   "source": [
    "datagen = ImageDataGenerator(\n",
    "    rescale = 1./255,\n",
    "    rotation_range = 90,\n",
    "    shear_range=0.1,\n",
    "    zoom_range=0.1,\n",
    "    validation_split = 0.1\n",
    ")"
   ]
  },
  {
   "cell_type": "code",
   "execution_count": 10,
   "metadata": {},
   "outputs": [
    {
     "name": "stdout",
     "output_type": "stream",
     "text": [
      "Found 711 validated image filenames belonging to 23 classes.\n",
      "Found 79 validated image filenames belonging to 23 classes.\n"
     ]
    }
   ],
   "source": [
    "train_generator = datagen.flow_from_dataframe(\n",
    "    df,\n",
    "    directory='../input/pollen-grain-image-classification',\n",
    "    x_col = 'image_name',\n",
    "    y_col = 'image_type',\n",
    "    target_size = (299,299),\n",
    "    batch_size = 32,\n",
    "    class_mode = 'categorical',\n",
    "    subset = 'training'\n",
    ")\n",
    "\n",
    "valid_generator = datagen.flow_from_dataframe(\n",
    "    df,\n",
    "    directory='../input/pollen-grain-image-classification',\n",
    "    x_col = 'image_name',\n",
    "    y_col = 'image_type',\n",
    "    target_size = (299,299),\n",
    "    batch_size = 32,\n",
    "    class_mode = 'categorical',\n",
    "    subset = 'validation'\n",
    ")"
   ]
  },
  {
   "cell_type": "code",
   "execution_count": 11,
   "metadata": {},
   "outputs": [],
   "source": [
    "from tensorflow.keras.layers import Conv2D,MaxPool2D,Dropout,Flatten,Dense,GlobalAveragePooling2D\n",
    "from tensorflow.keras.models import Sequential,Model"
   ]
  },
  {
   "cell_type": "markdown",
   "metadata": {},
   "source": [
    "# Creating Simple CNN Model"
   ]
  },
  {
   "cell_type": "code",
   "execution_count": 12,
   "metadata": {},
   "outputs": [],
   "source": [
    "model = Sequential()\n",
    "model.add(Conv2D(50, kernel_size=(3,3), strides=(1,1), padding='same', activation='relu', input_shape=(299, 299, 3)))\n",
    "model.add(Conv2D(75, kernel_size=(3,3), strides=(1,1), padding='same', activation='relu'))\n",
    "model.add(MaxPool2D(pool_size=(2,2)))\n",
    "model.add(Dropout(0.25))\n",
    "model.add(Conv2D(125, kernel_size=(3,3), strides=(1,1), padding='same', activation='relu'))\n",
    "model.add(MaxPool2D(pool_size=(2,2)))\n",
    "model.add(Dropout(0.25))\n",
    "model.add(Flatten())\n",
    "model.add(Dense(512, activation='relu'))\n",
    "model.add(Dropout(0.4))\n",
    "model.add(Dense(256, activation='relu'))\n",
    "model.add(Dropout(0.3))\n",
    "model.add(Dense(23, activation='softmax'))\n"
   ]
  },
  {
   "cell_type": "code",
   "execution_count": 13,
   "metadata": {},
   "outputs": [],
   "source": [
    "model.compile(\n",
    "    optimizer = 'adam',\n",
    "    loss = 'categorical_crossentropy',\n",
    "    metrics = ['accuracy']\n",
    ")"
   ]
  },
  {
   "cell_type": "code",
   "execution_count": 14,
   "metadata": {},
   "outputs": [],
   "source": [
    "train_steps = train_generator.n//train_generator.batch_size\n",
    "valid_steps = valid_generator.n//valid_generator.batch_size"
   ]
  },
  {
   "cell_type": "code",
   "execution_count": 15,
   "metadata": {},
   "outputs": [
    {
     "name": "stdout",
     "output_type": "stream",
     "text": [
      "Epoch 1/50\n",
      "22/22 [==============================] - 20s 919ms/step - loss: 9.6022 - accuracy: 0.0398 - val_loss: 3.1360 - val_accuracy: 0.0312\n",
      "Epoch 2/50\n",
      "22/22 [==============================] - 18s 808ms/step - loss: 3.1205 - accuracy: 0.0501 - val_loss: 3.1359 - val_accuracy: 0.0312\n",
      "Epoch 3/50\n",
      "22/22 [==============================] - 17s 784ms/step - loss: 3.1106 - accuracy: 0.0648 - val_loss: 3.0457 - val_accuracy: 0.1250\n",
      "Epoch 4/50\n",
      "22/22 [==============================] - 18s 839ms/step - loss: 2.8946 - accuracy: 0.0923 - val_loss: 3.0074 - val_accuracy: 0.0938\n",
      "Epoch 5/50\n",
      "22/22 [==============================] - 18s 829ms/step - loss: 2.7582 - accuracy: 0.1429 - val_loss: 2.8401 - val_accuracy: 0.1562\n",
      "Epoch 6/50\n",
      "22/22 [==============================] - 18s 824ms/step - loss: 2.6758 - accuracy: 0.1449 - val_loss: 2.6917 - val_accuracy: 0.1562\n",
      "Epoch 7/50\n",
      "22/22 [==============================] - 19s 849ms/step - loss: 2.5568 - accuracy: 0.1988 - val_loss: 2.6646 - val_accuracy: 0.1562\n",
      "Epoch 8/50\n",
      "22/22 [==============================] - 17s 788ms/step - loss: 2.3600 - accuracy: 0.2445 - val_loss: 2.5045 - val_accuracy: 0.2969\n",
      "Epoch 9/50\n",
      "22/22 [==============================] - 18s 814ms/step - loss: 2.2669 - accuracy: 0.2680 - val_loss: 2.5388 - val_accuracy: 0.2344\n",
      "Epoch 10/50\n",
      "22/22 [==============================] - 18s 828ms/step - loss: 2.1459 - accuracy: 0.2901 - val_loss: 2.1136 - val_accuracy: 0.3750\n",
      "Epoch 11/50\n",
      "22/22 [==============================] - 17s 794ms/step - loss: 2.0635 - accuracy: 0.3166 - val_loss: 2.1995 - val_accuracy: 0.3125\n",
      "Epoch 12/50\n",
      "22/22 [==============================] - 18s 803ms/step - loss: 2.0400 - accuracy: 0.3358 - val_loss: 2.4552 - val_accuracy: 0.2656\n",
      "Epoch 13/50\n",
      "22/22 [==============================] - 18s 801ms/step - loss: 2.1114 - accuracy: 0.3417 - val_loss: 2.2391 - val_accuracy: 0.2656\n",
      "Epoch 14/50\n",
      "22/22 [==============================] - 19s 843ms/step - loss: 1.9174 - accuracy: 0.3373 - val_loss: 2.0674 - val_accuracy: 0.3125\n",
      "Epoch 15/50\n",
      "22/22 [==============================] - 17s 789ms/step - loss: 1.8511 - accuracy: 0.3756 - val_loss: 1.9907 - val_accuracy: 0.3438\n",
      "Epoch 16/50\n",
      "22/22 [==============================] - 18s 812ms/step - loss: 1.8156 - accuracy: 0.3888 - val_loss: 2.0265 - val_accuracy: 0.3750\n",
      "Epoch 17/50\n",
      "22/22 [==============================] - 18s 834ms/step - loss: 1.8447 - accuracy: 0.4138 - val_loss: 1.8450 - val_accuracy: 0.4219\n",
      "Epoch 18/50\n",
      "22/22 [==============================] - 17s 789ms/step - loss: 1.7666 - accuracy: 0.4109 - val_loss: 1.9143 - val_accuracy: 0.3438\n",
      "Epoch 19/50\n",
      "22/22 [==============================] - 18s 816ms/step - loss: 1.6883 - accuracy: 0.4300 - val_loss: 1.9189 - val_accuracy: 0.3906\n",
      "Epoch 20/50\n",
      "22/22 [==============================] - 18s 822ms/step - loss: 1.6627 - accuracy: 0.4477 - val_loss: 1.8734 - val_accuracy: 0.3906\n",
      "Epoch 21/50\n",
      "22/22 [==============================] - 18s 810ms/step - loss: 1.7263 - accuracy: 0.4271 - val_loss: 2.0411 - val_accuracy: 0.3438\n",
      "Epoch 22/50\n",
      "22/22 [==============================] - 17s 783ms/step - loss: 1.6541 - accuracy: 0.4242 - val_loss: 1.9803 - val_accuracy: 0.4375\n",
      "Epoch 23/50\n",
      "22/22 [==============================] - 18s 817ms/step - loss: 1.7620 - accuracy: 0.3976 - val_loss: 2.1532 - val_accuracy: 0.3750\n",
      "Epoch 24/50\n",
      "22/22 [==============================] - 18s 824ms/step - loss: 1.7113 - accuracy: 0.4242 - val_loss: 1.7455 - val_accuracy: 0.5000\n",
      "Epoch 25/50\n",
      "22/22 [==============================] - 17s 775ms/step - loss: 1.5341 - accuracy: 0.4698 - val_loss: 1.6869 - val_accuracy: 0.5625\n",
      "Epoch 26/50\n",
      "22/22 [==============================] - 17s 789ms/step - loss: 1.4729 - accuracy: 0.5007 - val_loss: 1.7307 - val_accuracy: 0.4531\n",
      "Epoch 27/50\n",
      "22/22 [==============================] - 18s 819ms/step - loss: 1.4280 - accuracy: 0.5110 - val_loss: 1.6936 - val_accuracy: 0.5000\n",
      "Epoch 28/50\n",
      "22/22 [==============================] - 18s 805ms/step - loss: 1.4415 - accuracy: 0.4890 - val_loss: 1.5139 - val_accuracy: 0.5156\n",
      "Epoch 29/50\n",
      "22/22 [==============================] - 17s 774ms/step - loss: 1.5022 - accuracy: 0.4786 - val_loss: 1.6207 - val_accuracy: 0.5625\n",
      "Epoch 30/50\n",
      "22/22 [==============================] - 19s 849ms/step - loss: 1.4089 - accuracy: 0.5155 - val_loss: 1.7480 - val_accuracy: 0.5000\n",
      "Epoch 31/50\n",
      "22/22 [==============================] - 18s 809ms/step - loss: 1.3793 - accuracy: 0.5317 - val_loss: 1.5203 - val_accuracy: 0.5156\n",
      "Epoch 32/50\n",
      "22/22 [==============================] - 17s 765ms/step - loss: 1.3841 - accuracy: 0.5302 - val_loss: 1.7384 - val_accuracy: 0.5156\n",
      "Epoch 33/50\n",
      "22/22 [==============================] - 18s 820ms/step - loss: 1.4149 - accuracy: 0.5287 - val_loss: 1.6906 - val_accuracy: 0.5000\n",
      "Epoch 34/50\n",
      "22/22 [==============================] - 17s 783ms/step - loss: 1.4745 - accuracy: 0.5140 - val_loss: 1.6107 - val_accuracy: 0.4688\n",
      "Epoch 35/50\n",
      "22/22 [==============================] - 18s 812ms/step - loss: 1.3379 - accuracy: 0.5493 - val_loss: 1.5629 - val_accuracy: 0.4844\n",
      "Epoch 36/50\n",
      "22/22 [==============================] - 18s 808ms/step - loss: 1.3181 - accuracy: 0.5611 - val_loss: 1.5293 - val_accuracy: 0.6094\n",
      "Epoch 37/50\n",
      "22/22 [==============================] - 18s 800ms/step - loss: 1.1989 - accuracy: 0.5817 - val_loss: 1.5007 - val_accuracy: 0.5469\n",
      "Epoch 38/50\n",
      "22/22 [==============================] - 18s 810ms/step - loss: 1.2133 - accuracy: 0.5626 - val_loss: 1.5882 - val_accuracy: 0.6094\n",
      "Epoch 39/50\n",
      "22/22 [==============================] - 17s 785ms/step - loss: 1.2668 - accuracy: 0.5449 - val_loss: 1.6355 - val_accuracy: 0.5156\n",
      "Epoch 40/50\n",
      "22/22 [==============================] - 19s 865ms/step - loss: 1.2345 - accuracy: 0.5714 - val_loss: 1.5825 - val_accuracy: 0.5000\n",
      "Epoch 41/50\n",
      "22/22 [==============================] - 18s 827ms/step - loss: 1.1804 - accuracy: 0.5773 - val_loss: 1.7455 - val_accuracy: 0.4688\n",
      "Epoch 42/50\n",
      "22/22 [==============================] - 18s 826ms/step - loss: 1.2883 - accuracy: 0.5611 - val_loss: 1.3799 - val_accuracy: 0.5625\n",
      "Epoch 43/50\n",
      "22/22 [==============================] - 20s 890ms/step - loss: 1.1761 - accuracy: 0.5788 - val_loss: 1.2850 - val_accuracy: 0.5938\n",
      "Epoch 44/50\n",
      "22/22 [==============================] - 18s 826ms/step - loss: 1.3475 - accuracy: 0.5523 - val_loss: 1.3557 - val_accuracy: 0.5625\n",
      "Epoch 45/50\n",
      "22/22 [==============================] - 19s 848ms/step - loss: 1.3217 - accuracy: 0.5376 - val_loss: 1.4393 - val_accuracy: 0.5625\n",
      "Epoch 46/50\n",
      "22/22 [==============================] - 19s 862ms/step - loss: 1.1759 - accuracy: 0.5994 - val_loss: 1.3327 - val_accuracy: 0.6406\n",
      "Epoch 47/50\n",
      "22/22 [==============================] - 17s 774ms/step - loss: 1.0952 - accuracy: 0.6141 - val_loss: 1.3755 - val_accuracy: 0.5625\n",
      "Epoch 48/50\n",
      "22/22 [==============================] - 18s 814ms/step - loss: 1.1030 - accuracy: 0.6244 - val_loss: 1.2727 - val_accuracy: 0.5156\n",
      "Epoch 49/50\n",
      "22/22 [==============================] - 18s 820ms/step - loss: 1.0726 - accuracy: 0.6333 - val_loss: 1.3962 - val_accuracy: 0.5781\n",
      "Epoch 50/50\n",
      "22/22 [==============================] - 18s 800ms/step - loss: 1.1580 - accuracy: 0.6053 - val_loss: 1.3320 - val_accuracy: 0.5469\n"
     ]
    }
   ],
   "source": [
    "history = model.fit(\n",
    "    train_generator,\n",
    "    steps_per_epoch=train_steps,\n",
    "    epochs=50,\n",
    "    validation_data=valid_generator,\n",
    "    validation_steps=valid_steps\n",
    ")"
   ]
  },
  {
   "cell_type": "code",
   "execution_count": 16,
   "metadata": {},
   "outputs": [
    {
     "data": {
      "image/png": "[encoded data removed]",
      "text/plain": [
       "<Figure size 432x288 with 1 Axes>"
      ]
     },
     "metadata": {
      "needs_background": "light"
     },
     "output_type": "display_data"
    },
    {
     "data": {
      "image/png": "[encoded data removed]",
      "text/plain": [
       "<Figure size 432x288 with 1 Axes>"
      ]
     },
     "metadata": {
      "needs_background": "light"
     },
     "output_type": "display_data"
    }
   ],
   "source": [
    "import matplotlib.pyplot as plt\n",
    "# summarize history for accuracy\n",
    "plt.plot(history.history['accuracy'])\n",
    "plt.plot(history.history['val_accuracy'])\n",
    "plt.title('model accuracy')\n",
    "plt.ylabel('accuracy')\n",
    "plt.xlabel('epoch')\n",
    "plt.legend(['train', 'test'], loc='upper left')\n",
    "plt.show()\n",
    "# summarize history for loss\n",
    "plt.plot(history.history['loss'])\n",
    "plt.plot(history.history['val_loss'])\n",
    "plt.title('model loss')\n",
    "plt.ylabel('loss')\n",
    "plt.xlabel('epoch')\n",
    "plt.legend(['train', 'test'], loc='upper left')\n",
    "plt.show()"
   ]
  },
  {
   "cell_type": "markdown",
   "metadata": {},
   "source": [
    "# Creating model using InceptionV3"
   ]
  },
  {
   "cell_type": "code",
   "execution_count": 17,
   "metadata": {},
   "outputs": [],
   "source": [
    "from tensorflow.keras.applications.inception_v3 import InceptionV3, preprocess_input\n",
    "inception_preprocess_input = preprocess_input"
   ]
  },
  {
   "cell_type": "code",
   "execution_count": 18,
   "metadata": {},
   "outputs": [],
   "source": [
    "inception_datagen = ImageDataGenerator(\n",
    "    rotation_range = 90,\n",
    "    shear_range=0.1,\n",
    "    zoom_range=0.1,\n",
    "    preprocessing_function=inception_preprocess_input,\n",
    "    validation_split = 0.1\n",
    ")"
   ]
  },
  {
   "cell_type": "code",
   "execution_count": 19,
   "metadata": {},
   "outputs": [
    {
     "name": "stdout",
     "output_type": "stream",
     "text": [
      "Found 711 validated image filenames belonging to 23 classes.\n",
      "Found 79 validated image filenames belonging to 23 classes.\n"
     ]
    }
   ],
   "source": [
    "inception_train_generator = inception_datagen.flow_from_dataframe(\n",
    "    df,\n",
    "    directory='../input/pollen-grain-image-classification',\n",
    "    x_col = 'image_name',\n",
    "    y_col = 'image_type',\n",
    "    target_size = (299,299),\n",
    "    batch_size = 32,\n",
    "    class_mode = 'categorical',\n",
    "    subset = 'training'\n",
    ")\n",
    "\n",
    "inception_valid_generator = inception_datagen.flow_from_dataframe(\n",
    "    df,\n",
    "    directory='../input/pollen-grain-image-classification',\n",
    "    x_col = 'image_name',\n",
    "    y_col = 'image_type',\n",
    "    target_size = (299,299),\n",
    "    batch_size = 32,\n",
    "    class_mode = 'categorical',\n",
    "    subset = 'validation'\n",
    ")"
   ]
  },
  {
   "cell_type": "code",
   "execution_count": 20,
   "metadata": {},
   "outputs": [
    {
     "name": "stdout",
     "output_type": "stream",
     "text": [
      "Downloading data from https://storage.googleapis.com/tensorflow/keras-applications/inception_v3/inception_v3_weights_tf_dim_ordering_tf_kernels_notop.h5\n",
      "87916544/87910968 [==============================] - 1s 0us/step\n"
     ]
    }
   ],
   "source": [
    "inception_base = InceptionV3(include_top=False,weights='imagenet',input_shape=(299,299,3))"
   ]
  },
  {
   "cell_type": "code",
   "execution_count": 21,
   "metadata": {},
   "outputs": [],
   "source": [
    "inception_base.trainable = False"
   ]
  },
  {
   "cell_type": "code",
   "execution_count": 22,
   "metadata": {},
   "outputs": [],
   "source": [
    "inception_model = Sequential()\n",
    "inception_model.add(inception_base)\n",
    "inception_model.add(GlobalAveragePooling2D())\n",
    "inception_model.add(Dense(1024,activation='relu'))\n",
    "inception_model.add(Dropout(0.4))\n",
    "inception_model.add(Dense(512,activation='relu'))\n",
    "inception_model.add(Dropout(0.3))\n",
    "inception_model.add(Dense(23,activation='softmax'))"
   ]
  },
  {
   "cell_type": "code",
   "execution_count": 23,
   "metadata": {},
   "outputs": [
    {
     "name": "stdout",
     "output_type": "stream",
     "text": [
      "Model: \"sequential_1\"\n",
      "_________________________________________________________________\n",
      "Layer (type)                 Output Shape              Param #   \n",
      "=================================================================\n",
      "inception_v3 (Functional)    (None, 8, 8, 2048)        21802784  \n",
      "_________________________________________________________________\n",
      "global_average_pooling2d (Gl (None, 2048)              0         \n",
      "_________________________________________________________________\n",
      "dense_3 (Dense)              (None, 1024)              2098176   \n",
      "_________________________________________________________________\n",
      "dropout_4 (Dropout)          (None, 1024)              0         \n",
      "_________________________________________________________________\n",
      "dense_4 (Dense)              (None, 512)               524800    \n",
      "_________________________________________________________________\n",
      "dropout_5 (Dropout)          (None, 512)               0         \n",
      "_________________________________________________________________\n",
      "dense_5 (Dense)              (None, 23)                11799     \n",
      "=================================================================\n",
      "Total params: 24,437,559\n",
      "Trainable params: 2,634,775\n",
      "Non-trainable params: 21,802,784\n",
      "_________________________________________________________________\n"
     ]
    }
   ],
   "source": [
    "inception_model.summary()"
   ]
  },
  {
   "cell_type": "code",
   "execution_count": 24,
   "metadata": {},
   "outputs": [],
   "source": [
    "inception_model.compile(\n",
    "    optimizer = 'adam',\n",
    "    loss = 'categorical_crossentropy',\n",
    "    metrics = ['accuracy']\n",
    ")"
   ]
  },
  {
   "cell_type": "code",
   "execution_count": 25,
   "metadata": {},
   "outputs": [],
   "source": [
    "train_steps = inception_train_generator.n//inception_train_generator.batch_size\n",
    "valid_steps = inception_valid_generator.n//inception_valid_generator.batch_size"
   ]
  },
  {
   "cell_type": "code",
   "execution_count": 26,
   "metadata": {},
   "outputs": [
    {
     "name": "stdout",
     "output_type": "stream",
     "text": [
      "Epoch 1/25\n",
      "22/22 [==============================] - 18s 836ms/step - loss: 2.8716 - accuracy: 0.2032 - val_loss: 1.8485 - val_accuracy: 0.4375\n",
      "Epoch 2/25\n",
      "22/22 [==============================] - 17s 767ms/step - loss: 1.6593 - accuracy: 0.4786 - val_loss: 1.3943 - val_accuracy: 0.5469\n",
      "Epoch 3/25\n",
      "22/22 [==============================] - 16s 735ms/step - loss: 1.2552 - accuracy: 0.5906 - val_loss: 0.9760 - val_accuracy: 0.6875\n",
      "Epoch 4/25\n",
      "22/22 [==============================] - 16s 721ms/step - loss: 0.9183 - accuracy: 0.7099 - val_loss: 0.7929 - val_accuracy: 0.7500\n",
      "Epoch 5/25\n",
      "22/22 [==============================] - 17s 780ms/step - loss: 0.8631 - accuracy: 0.7128 - val_loss: 0.8161 - val_accuracy: 0.7500\n",
      "Epoch 6/25\n",
      "22/22 [==============================] - 17s 768ms/step - loss: 0.6647 - accuracy: 0.7894 - val_loss: 0.7286 - val_accuracy: 0.7031\n",
      "Epoch 7/25\n",
      "22/22 [==============================] - 17s 763ms/step - loss: 0.6711 - accuracy: 0.7894 - val_loss: 0.6423 - val_accuracy: 0.7969\n",
      "Epoch 8/25\n",
      "22/22 [==============================] - 16s 737ms/step - loss: 0.6576 - accuracy: 0.7953 - val_loss: 0.5872 - val_accuracy: 0.8125\n",
      "Epoch 9/25\n",
      "22/22 [==============================] - 18s 807ms/step - loss: 0.5289 - accuracy: 0.8424 - val_loss: 0.5210 - val_accuracy: 0.8125\n",
      "Epoch 10/25\n",
      "22/22 [==============================] - 17s 758ms/step - loss: 0.5617 - accuracy: 0.8174 - val_loss: 0.6033 - val_accuracy: 0.8281\n",
      "Epoch 11/25\n",
      "22/22 [==============================] - 16s 735ms/step - loss: 0.5615 - accuracy: 0.8041 - val_loss: 0.5718 - val_accuracy: 0.7969\n",
      "Epoch 12/25\n",
      "22/22 [==============================] - 17s 789ms/step - loss: 0.4140 - accuracy: 0.8601 - val_loss: 0.4609 - val_accuracy: 0.7969\n",
      "Epoch 13/25\n",
      "22/22 [==============================] - 17s 750ms/step - loss: 0.4152 - accuracy: 0.8704 - val_loss: 0.8056 - val_accuracy: 0.7656\n",
      "Epoch 14/25\n",
      "22/22 [==============================] - 16s 742ms/step - loss: 0.4021 - accuracy: 0.8542 - val_loss: 0.6998 - val_accuracy: 0.8438\n",
      "Epoch 15/25\n",
      "22/22 [==============================] - 16s 729ms/step - loss: 0.3965 - accuracy: 0.8660 - val_loss: 0.5906 - val_accuracy: 0.8125\n",
      "Epoch 16/25\n",
      "22/22 [==============================] - 18s 807ms/step - loss: 0.4068 - accuracy: 0.8616 - val_loss: 0.5161 - val_accuracy: 0.8438\n",
      "Epoch 17/25\n",
      "22/22 [==============================] - 16s 736ms/step - loss: 0.3584 - accuracy: 0.8778 - val_loss: 0.5928 - val_accuracy: 0.8438\n",
      "Epoch 18/25\n",
      "22/22 [==============================] - 17s 759ms/step - loss: 0.3712 - accuracy: 0.8763 - val_loss: 0.6511 - val_accuracy: 0.8125\n",
      "Epoch 19/25\n",
      "22/22 [==============================] - 17s 762ms/step - loss: 0.4213 - accuracy: 0.8733 - val_loss: 0.2823 - val_accuracy: 0.9062\n",
      "Epoch 20/25\n",
      "22/22 [==============================] - 17s 772ms/step - loss: 0.3262 - accuracy: 0.8910 - val_loss: 0.6535 - val_accuracy: 0.8281\n",
      "Epoch 21/25\n",
      "22/22 [==============================] - 16s 727ms/step - loss: 0.3304 - accuracy: 0.8763 - val_loss: 0.4476 - val_accuracy: 0.8438\n",
      "Epoch 22/25\n",
      "22/22 [==============================] - 16s 717ms/step - loss: 0.3450 - accuracy: 0.8837 - val_loss: 0.5915 - val_accuracy: 0.8125\n",
      "Epoch 23/25\n",
      "22/22 [==============================] - 17s 786ms/step - loss: 0.2847 - accuracy: 0.8925 - val_loss: 0.3402 - val_accuracy: 0.9062\n",
      "Epoch 24/25\n",
      "22/22 [==============================] - 16s 742ms/step - loss: 0.3417 - accuracy: 0.8837 - val_loss: 0.5370 - val_accuracy: 0.7969\n",
      "Epoch 25/25\n",
      "22/22 [==============================] - 17s 752ms/step - loss: 0.3236 - accuracy: 0.8999 - val_loss: 0.3207 - val_accuracy: 0.8906\n"
     ]
    }
   ],
   "source": [
    "inception_history = inception_model.fit(\n",
    "    inception_train_generator,\n",
    "    steps_per_epoch=train_steps,\n",
    "    epochs=25,\n",
    "    validation_data=inception_valid_generator,\n",
    "    validation_steps=valid_steps\n",
    ")"
   ]
  },
  {
   "cell_type": "code",
   "execution_count": 27,
   "metadata": {},
   "outputs": [
    {
     "data": {
      "image/png": "[encoded data removed]",
      "text/plain": [
       "<Figure size 432x288 with 1 Axes>"
      ]
     },
     "metadata": {
      "needs_background": "light"
     },
     "output_type": "display_data"
    },
    {
     "data": {
      "image/png": "[encoded data removed]",
      "text/plain": [
       "<Figure size 432x288 with 1 Axes>"
      ]
     },
     "metadata": {
      "needs_background": "light"
     },
     "output_type": "display_data"
    }
   ],
   "source": [
    "# summarize history for accuracy\n",
    "plt.plot(inception_history.history['accuracy'])\n",
    "plt.plot(inception_history.history['val_accuracy'])\n",
    "plt.title('model accuracy')\n",
    "plt.ylabel('accuracy')\n",
    "plt.xlabel('epoch')\n",
    "plt.legend(['train', 'test'], loc='upper left')\n",
    "plt.show()\n",
    "# summarize history for loss\n",
    "plt.plot(inception_history.history['loss'])\n",
    "plt.plot(inception_history.history['val_loss'])\n",
    "plt.title('model loss')\n",
    "plt.ylabel('loss')\n",
    "plt.xlabel('epoch')\n",
    "plt.legend(['train', 'test'], loc='upper left')\n",
    "plt.show()"
   ]
  },
  {
   "cell_type": "markdown",
   "metadata": {},
   "source": [
    "# Conclusion\n",
    "1. Pretrained Model can be used to boost accuracy.\n",
    "2. In our case InceptionV3 gives 80+ validation accuracy in just 8 epochs on the other hand our simple CNN model gives validation accuracy of around 60% after 50 epochs.\n",
    "3. Furthermore after 25 epochs InceprionV3 gives 89+ validation accuracy "
   ]
  },
  {
   "cell_type": "code",
   "execution_count": null,
   "metadata": {},
   "outputs": [],
   "source": []
  }
 ],
 "metadata": {
  "kernelspec": {
   "display_name": "Python 3",
   "language": "python",
   "name": "python3"
  },
  "language_info": {
   "codemirror_mode": {
    "name": "ipython",
    "version": 3
   },
   "file_extension": ".py",
   "mimetype": "text/x-python",
   "name": "python",
   "nbconvert_exporter": "python",
   "pygments_lexer": "ipython3",
   "version": "3.7.4"
  }
 },
 "nbformat": 4,
 "nbformat_minor": 4
}
